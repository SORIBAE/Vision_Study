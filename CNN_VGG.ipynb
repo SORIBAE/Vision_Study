{
 "cells": [
  {
   "cell_type": "code",
   "execution_count": 1,
   "id": "bb61427c-4a1b-4b9c-8a8c-faf7fbcde793",
   "metadata": {},
   "outputs": [
    {
     "name": "stdout",
     "output_type": "stream",
     "text": [
      "Defaulting to user installation because normal site-packages is not writeable\n",
      "Requirement already satisfied: pandas in /home/baesorie/.local/lib/python3.10/site-packages (1.5.2)\n",
      "Requirement already satisfied: numpy>=1.21.0 in /home/baesorie/.local/lib/python3.10/site-packages (from pandas) (1.24.1)\n",
      "Requirement already satisfied: python-dateutil>=2.8.1 in /usr/local/lib/python3.10/dist-packages (from pandas) (2.8.2)\n",
      "Requirement already satisfied: pytz>=2020.1 in /usr/local/lib/python3.10/dist-packages (from pandas) (2022.7.1)\n",
      "Requirement already satisfied: six>=1.5 in /usr/local/lib/python3.10/dist-packages (from python-dateutil>=2.8.1->pandas) (1.16.0)\n"
     ]
    }
   ],
   "source": [
    "!pip install pandas"
   ]
  },
  {
   "cell_type": "code",
   "execution_count": 2,
   "id": "294290a0-e702-4a69-b98a-482637efd44a",
   "metadata": {},
   "outputs": [
    {
     "name": "stdout",
     "output_type": "stream",
     "text": [
      "Defaulting to user installation because normal site-packages is not writeable\n",
      "Requirement already satisfied: pandas in /home/baesorie/.local/lib/python3.10/site-packages (1.5.2)\n",
      "Requirement already satisfied: python-dateutil>=2.8.1 in /usr/local/lib/python3.10/dist-packages (from pandas) (2.8.2)\n",
      "Requirement already satisfied: numpy>=1.21.0 in /home/baesorie/.local/lib/python3.10/site-packages (from pandas) (1.24.1)\n",
      "Requirement already satisfied: pytz>=2020.1 in /usr/local/lib/python3.10/dist-packages (from pandas) (2022.7.1)\n",
      "Requirement already satisfied: six>=1.5 in /usr/local/lib/python3.10/dist-packages (from python-dateutil>=2.8.1->pandas) (1.16.0)\n",
      "Note: you may need to restart the kernel to use updated packages.\n"
     ]
    }
   ],
   "source": [
    "pip install --upgrade pandas"
   ]
  },
  {
   "cell_type": "code",
   "execution_count": 3,
   "id": "52b7249f-b5c4-47ad-8d33-87bc34bf8348",
   "metadata": {},
   "outputs": [],
   "source": [
    "import pandas as pd"
   ]
  },
  {
   "cell_type": "code",
   "execution_count": 4,
   "id": "176d278a-33d2-4a65-8329-9927852e3251",
   "metadata": {},
   "outputs": [
    {
     "name": "stdout",
     "output_type": "stream",
     "text": [
      "/bin/bash: line 1: python: command not found\n"
     ]
    }
   ],
   "source": [
    "!python -v "
   ]
  },
  {
   "cell_type": "code",
   "execution_count": 5,
   "id": "70c2fbf7-ccfd-4429-99bd-2c7d96063eb4",
   "metadata": {},
   "outputs": [
    {
     "name": "stdout",
     "output_type": "stream",
     "text": [
      "Python 3.10.6\n"
     ]
    }
   ],
   "source": [
    "!python3 -V"
   ]
  },
  {
   "cell_type": "code",
   "execution_count": 6,
   "id": "4ab1121e-8bf0-438b-bfcd-c74373f0a115",
   "metadata": {},
   "outputs": [],
   "source": [
    "import sys"
   ]
  },
  {
   "cell_type": "code",
   "execution_count": 7,
   "id": "b6aaf019-65c0-40ac-ae03-c541892e28a8",
   "metadata": {},
   "outputs": [
    {
     "data": {
      "text/plain": [
       "'3.10.6 (main, Nov  2 2022, 18:53:38) [GCC 11.3.0]'"
      ]
     },
     "execution_count": 7,
     "metadata": {},
     "output_type": "execute_result"
    }
   ],
   "source": [
    "sys.version"
   ]
  },
  {
   "cell_type": "code",
   "execution_count": 8,
   "id": "e8dfbae3-8671-4310-8d37-542d890d5522",
   "metadata": {},
   "outputs": [
    {
     "name": "stdout",
     "output_type": "stream",
     "text": [
      "Defaulting to user installation because normal site-packages is not writeable\n",
      "Requirement already satisfied: pandas in /home/baesorie/.local/lib/python3.10/site-packages (1.5.2)\n",
      "Requirement already satisfied: numpy>=1.21.0 in /home/baesorie/.local/lib/python3.10/site-packages (from pandas) (1.24.1)\n",
      "Requirement already satisfied: python-dateutil>=2.8.1 in /usr/local/lib/python3.10/dist-packages (from pandas) (2.8.2)\n",
      "Requirement already satisfied: pytz>=2020.1 in /usr/local/lib/python3.10/dist-packages (from pandas) (2022.7.1)\n",
      "Requirement already satisfied: six>=1.5 in /usr/local/lib/python3.10/dist-packages (from python-dateutil>=2.8.1->pandas) (1.16.0)\n"
     ]
    }
   ],
   "source": [
    "!python3 -m pip install pandas"
   ]
  },
  {
   "cell_type": "code",
   "execution_count": 9,
   "id": "462a8be0-06f7-4eca-b269-fcd4f6e1d2ae",
   "metadata": {},
   "outputs": [],
   "source": [
    "import pandas as pd"
   ]
  },
  {
   "cell_type": "code",
   "execution_count": 10,
   "id": "92c79e26-7bc4-420e-99e1-be18bdb4cd4d",
   "metadata": {},
   "outputs": [
    {
     "name": "stdout",
     "output_type": "stream",
     "text": [
      "Defaulting to user installation because normal site-packages is not writeable\n",
      "Requirement already satisfied: numpy in /home/baesorie/.local/lib/python3.10/site-packages (1.24.1)\n"
     ]
    }
   ],
   "source": [
    "!python3 -m pip install numpy"
   ]
  },
  {
   "cell_type": "code",
   "execution_count": 11,
   "id": "12b5777d-6bc5-4b1f-aebb-5e5a260f5363",
   "metadata": {},
   "outputs": [],
   "source": [
    "import numpy as np"
   ]
  },
  {
   "cell_type": "code",
   "execution_count": 12,
   "id": "a267b6c1-b690-4751-a914-080fab4306d5",
   "metadata": {},
   "outputs": [
    {
     "name": "stdout",
     "output_type": "stream",
     "text": [
      "Defaulting to user installation because normal site-packages is not writeable\n",
      "Requirement already satisfied: matplotlib in /home/baesorie/.local/lib/python3.10/site-packages (3.6.3)\n",
      "Requirement already satisfied: pyparsing>=2.2.1 in /usr/local/lib/python3.10/dist-packages (from matplotlib) (3.0.9)\n",
      "Requirement already satisfied: cycler>=0.10 in /home/baesorie/.local/lib/python3.10/site-packages (from matplotlib) (0.11.0)\n",
      "Requirement already satisfied: kiwisolver>=1.0.1 in /home/baesorie/.local/lib/python3.10/site-packages (from matplotlib) (1.4.4)\n",
      "Requirement already satisfied: python-dateutil>=2.7 in /usr/local/lib/python3.10/dist-packages (from matplotlib) (2.8.2)\n",
      "Requirement already satisfied: pillow>=6.2.0 in /home/baesorie/.local/lib/python3.10/site-packages (from matplotlib) (9.4.0)\n",
      "Requirement already satisfied: fonttools>=4.22.0 in /home/baesorie/.local/lib/python3.10/site-packages (from matplotlib) (4.38.0)\n",
      "Requirement already satisfied: numpy>=1.19 in /home/baesorie/.local/lib/python3.10/site-packages (from matplotlib) (1.24.1)\n",
      "Requirement already satisfied: contourpy>=1.0.1 in /home/baesorie/.local/lib/python3.10/site-packages (from matplotlib) (1.0.7)\n",
      "Requirement already satisfied: packaging>=20.0 in /usr/local/lib/python3.10/dist-packages (from matplotlib) (21.3)\n",
      "Requirement already satisfied: six>=1.5 in /usr/local/lib/python3.10/dist-packages (from python-dateutil>=2.7->matplotlib) (1.16.0)\n"
     ]
    }
   ],
   "source": [
    "!python3 -m pip install matplotlib"
   ]
  },
  {
   "cell_type": "code",
   "execution_count": 13,
   "id": "3945b5fb-32ef-49e0-a1d0-9df184317882",
   "metadata": {},
   "outputs": [],
   "source": [
    "import matplotlib.pyplot as plt"
   ]
  },
  {
   "cell_type": "code",
   "execution_count": 14,
   "id": "06a01168-82ae-450d-b1c7-06a247e5cc4a",
   "metadata": {},
   "outputs": [
    {
     "name": "stdout",
     "output_type": "stream",
     "text": [
      "Defaulting to user installation because normal site-packages is not writeable\n",
      "Requirement already satisfied: CIFAR10 in /home/baesorie/.local/lib/python3.10/site-packages (1.0.0)\n",
      "Requirement already satisfied: requests in /usr/local/lib/python3.10/dist-packages (from CIFAR10) (2.28.1)\n",
      "Requirement already satisfied: tqdm in /home/baesorie/.local/lib/python3.10/site-packages (from CIFAR10) (4.64.1)\n",
      "Requirement already satisfied: numpy in /home/baesorie/.local/lib/python3.10/site-packages (from CIFAR10) (1.24.1)\n",
      "Requirement already satisfied: certifi>=2017.4.17 in /usr/local/lib/python3.10/dist-packages (from requests->CIFAR10) (2022.9.24)\n",
      "Requirement already satisfied: charset-normalizer<3,>=2 in /usr/local/lib/python3.10/dist-packages (from requests->CIFAR10) (2.1.1)\n",
      "Requirement already satisfied: urllib3<1.27,>=1.21.1 in /usr/local/lib/python3.10/dist-packages (from requests->CIFAR10) (1.26.13)\n",
      "Requirement already satisfied: idna<4,>=2.5 in /usr/local/lib/python3.10/dist-packages (from requests->CIFAR10) (3.4)\n"
     ]
    }
   ],
   "source": [
    "!python3 -m pip install CIFAR10"
   ]
  },
  {
   "cell_type": "code",
   "execution_count": 15,
   "id": "1b8a2d8b-fb80-4486-b4b9-a438dde3acda",
   "metadata": {},
   "outputs": [
    {
     "name": "stdout",
     "output_type": "stream",
     "text": [
      "Defaulting to user installation because normal site-packages is not writeable\n",
      "Requirement already satisfied: torchvision in /home/baesorie/.local/lib/python3.10/site-packages (0.14.1)\n",
      "Requirement already satisfied: typing-extensions in /home/baesorie/.local/lib/python3.10/site-packages (from torchvision) (4.4.0)\n",
      "Requirement already satisfied: requests in /usr/local/lib/python3.10/dist-packages (from torchvision) (2.28.1)\n",
      "Requirement already satisfied: torch==1.13.1 in /home/baesorie/.local/lib/python3.10/site-packages (from torchvision) (1.13.1)\n",
      "Requirement already satisfied: numpy in /home/baesorie/.local/lib/python3.10/site-packages (from torchvision) (1.24.1)\n",
      "Requirement already satisfied: pillow!=8.3.*,>=5.3.0 in /home/baesorie/.local/lib/python3.10/site-packages (from torchvision) (9.4.0)\n",
      "Requirement already satisfied: nvidia-cuda-runtime-cu11==11.7.99 in /home/baesorie/.local/lib/python3.10/site-packages (from torch==1.13.1->torchvision) (11.7.99)\n",
      "Requirement already satisfied: nvidia-cudnn-cu11==8.5.0.96 in /home/baesorie/.local/lib/python3.10/site-packages (from torch==1.13.1->torchvision) (8.5.0.96)\n",
      "Requirement already satisfied: nvidia-cublas-cu11==11.10.3.66 in /home/baesorie/.local/lib/python3.10/site-packages (from torch==1.13.1->torchvision) (11.10.3.66)\n",
      "Requirement already satisfied: nvidia-cuda-nvrtc-cu11==11.7.99 in /home/baesorie/.local/lib/python3.10/site-packages (from torch==1.13.1->torchvision) (11.7.99)\n",
      "Requirement already satisfied: wheel in /usr/lib/python3/dist-packages (from nvidia-cublas-cu11==11.10.3.66->torch==1.13.1->torchvision) (0.37.1)\n",
      "Requirement already satisfied: setuptools in /usr/local/lib/python3.10/dist-packages (from nvidia-cublas-cu11==11.10.3.66->torch==1.13.1->torchvision) (65.6.3)\n",
      "Requirement already satisfied: certifi>=2017.4.17 in /usr/local/lib/python3.10/dist-packages (from requests->torchvision) (2022.9.24)\n",
      "Requirement already satisfied: charset-normalizer<3,>=2 in /usr/local/lib/python3.10/dist-packages (from requests->torchvision) (2.1.1)\n",
      "Requirement already satisfied: idna<4,>=2.5 in /usr/local/lib/python3.10/dist-packages (from requests->torchvision) (3.4)\n",
      "Requirement already satisfied: urllib3<1.27,>=1.21.1 in /usr/local/lib/python3.10/dist-packages (from requests->torchvision) (1.26.13)\n"
     ]
    }
   ],
   "source": [
    "!python3 -m pip install torchvision"
   ]
  },
  {
   "cell_type": "code",
   "execution_count": 16,
   "id": "c0c8d5f4-0809-404b-9f28-cb94096c8057",
   "metadata": {},
   "outputs": [],
   "source": [
    "import matplotlib.pyplot as plt"
   ]
  },
  {
   "cell_type": "code",
   "execution_count": 17,
   "id": "468dcf8d-32d8-4546-ab50-a8b704fbb7b0",
   "metadata": {},
   "outputs": [
    {
     "name": "stdout",
     "output_type": "stream",
     "text": [
      "Defaulting to user installation because normal site-packages is not writeable\n",
      "Requirement already satisfied: ipywidgets in /home/baesorie/.local/lib/python3.10/site-packages (8.0.4)\n",
      "Requirement already satisfied: traitlets>=4.3.1 in /usr/local/lib/python3.10/dist-packages (from ipywidgets) (5.6.0)\n",
      "Requirement already satisfied: ipykernel>=4.5.1 in /usr/local/lib/python3.10/dist-packages (from ipywidgets) (6.20.1)\n",
      "Requirement already satisfied: jupyterlab-widgets~=3.0 in /home/baesorie/.local/lib/python3.10/site-packages (from ipywidgets) (3.0.5)\n",
      "Requirement already satisfied: widgetsnbextension~=4.0 in /home/baesorie/.local/lib/python3.10/site-packages (from ipywidgets) (4.0.5)\n",
      "Requirement already satisfied: ipython>=6.1.0 in /usr/local/lib/python3.10/dist-packages (from ipywidgets) (8.8.0)\n",
      "Requirement already satisfied: matplotlib-inline>=0.1 in /usr/local/lib/python3.10/dist-packages (from ipykernel>=4.5.1->ipywidgets) (0.1.6)\n",
      "Requirement already satisfied: nest-asyncio in /usr/local/lib/python3.10/dist-packages (from ipykernel>=4.5.1->ipywidgets) (1.5.6)\n",
      "Requirement already satisfied: packaging in /usr/local/lib/python3.10/dist-packages (from ipykernel>=4.5.1->ipywidgets) (21.3)\n",
      "Requirement already satisfied: jupyter-client>=6.1.12 in /usr/local/lib/python3.10/dist-packages (from ipykernel>=4.5.1->ipywidgets) (7.4.9)\n",
      "Requirement already satisfied: pyzmq>=17 in /usr/local/lib/python3.10/dist-packages (from ipykernel>=4.5.1->ipywidgets) (25.0.0)\n",
      "Requirement already satisfied: tornado>=6.1 in /usr/local/lib/python3.10/dist-packages (from ipykernel>=4.5.1->ipywidgets) (6.2)\n",
      "Requirement already satisfied: debugpy>=1.0 in /usr/local/lib/python3.10/dist-packages (from ipykernel>=4.5.1->ipywidgets) (1.6.5)\n",
      "Requirement already satisfied: psutil in /usr/local/lib/python3.10/dist-packages (from ipykernel>=4.5.1->ipywidgets) (5.9.4)\n",
      "Requirement already satisfied: comm>=0.1.1 in /usr/local/lib/python3.10/dist-packages (from ipykernel>=4.5.1->ipywidgets) (0.1.2)\n",
      "Requirement already satisfied: pickleshare in /usr/local/lib/python3.10/dist-packages (from ipython>=6.1.0->ipywidgets) (0.7.5)\n",
      "Requirement already satisfied: stack-data in /usr/local/lib/python3.10/dist-packages (from ipython>=6.1.0->ipywidgets) (0.6.2)\n",
      "Requirement already satisfied: pexpect>4.3 in /usr/local/lib/python3.10/dist-packages (from ipython>=6.1.0->ipywidgets) (4.8.0)\n",
      "Requirement already satisfied: prompt-toolkit<3.1.0,>=3.0.11 in /usr/local/lib/python3.10/dist-packages (from ipython>=6.1.0->ipywidgets) (3.0.36)\n",
      "Requirement already satisfied: decorator in /usr/local/lib/python3.10/dist-packages (from ipython>=6.1.0->ipywidgets) (5.1.1)\n",
      "Requirement already satisfied: jedi>=0.16 in /usr/local/lib/python3.10/dist-packages (from ipython>=6.1.0->ipywidgets) (0.18.2)\n",
      "Requirement already satisfied: pygments>=2.4.0 in /usr/local/lib/python3.10/dist-packages (from ipython>=6.1.0->ipywidgets) (2.14.0)\n",
      "Requirement already satisfied: backcall in /usr/local/lib/python3.10/dist-packages (from ipython>=6.1.0->ipywidgets) (0.2.0)\n",
      "Requirement already satisfied: parso<0.9.0,>=0.8.0 in /usr/local/lib/python3.10/dist-packages (from jedi>=0.16->ipython>=6.1.0->ipywidgets) (0.8.3)\n",
      "Requirement already satisfied: jupyter-core>=4.9.2 in /usr/local/lib/python3.10/dist-packages (from jupyter-client>=6.1.12->ipykernel>=4.5.1->ipywidgets) (5.1.3)\n",
      "Requirement already satisfied: python-dateutil>=2.8.2 in /usr/local/lib/python3.10/dist-packages (from jupyter-client>=6.1.12->ipykernel>=4.5.1->ipywidgets) (2.8.2)\n",
      "Requirement already satisfied: entrypoints in /usr/local/lib/python3.10/dist-packages (from jupyter-client>=6.1.12->ipykernel>=4.5.1->ipywidgets) (0.4)\n",
      "Requirement already satisfied: ptyprocess>=0.5 in /usr/local/lib/python3.10/dist-packages (from pexpect>4.3->ipython>=6.1.0->ipywidgets) (0.7.0)\n",
      "Requirement already satisfied: wcwidth in /usr/local/lib/python3.10/dist-packages (from prompt-toolkit<3.1.0,>=3.0.11->ipython>=6.1.0->ipywidgets) (0.2.6)\n",
      "Requirement already satisfied: pyparsing!=3.0.5,>=2.0.2 in /usr/local/lib/python3.10/dist-packages (from packaging->ipykernel>=4.5.1->ipywidgets) (3.0.9)\n",
      "Requirement already satisfied: executing>=1.2.0 in /usr/local/lib/python3.10/dist-packages (from stack-data->ipython>=6.1.0->ipywidgets) (1.2.0)\n",
      "Requirement already satisfied: pure-eval in /usr/local/lib/python3.10/dist-packages (from stack-data->ipython>=6.1.0->ipywidgets) (0.2.2)\n",
      "Requirement already satisfied: asttokens>=2.1.0 in /usr/local/lib/python3.10/dist-packages (from stack-data->ipython>=6.1.0->ipywidgets) (2.2.1)\n",
      "Requirement already satisfied: six in /usr/local/lib/python3.10/dist-packages (from asttokens>=2.1.0->stack-data->ipython>=6.1.0->ipywidgets) (1.16.0)\n",
      "Requirement already satisfied: platformdirs>=2.5 in /usr/local/lib/python3.10/dist-packages (from jupyter-core>=4.9.2->jupyter-client>=6.1.12->ipykernel>=4.5.1->ipywidgets) (2.6.2)\n"
     ]
    }
   ],
   "source": [
    "!python3 -m pip install ipywidgets"
   ]
  },
  {
   "cell_type": "code",
   "execution_count": 218,
   "id": "7c14ba62-1b97-439d-9f6c-42f5ca836fa0",
   "metadata": {},
   "outputs": [],
   "source": [
    "from torchvision.datasets.cifar import CIFAR10"
   ]
  },
  {
   "cell_type": "code",
   "execution_count": 219,
   "id": "1ddab01c-d129-4940-89a9-643a5bee23ca",
   "metadata": {},
   "outputs": [],
   "source": [
    "from torchvision.transforms import ToTensor"
   ]
  },
  {
   "cell_type": "code",
   "execution_count": 220,
   "id": "279865c2-c3ae-4525-9a95-384e6ca8b6e9",
   "metadata": {},
   "outputs": [
    {
     "name": "stdout",
     "output_type": "stream",
     "text": [
      "Files already downloaded and verified\n"
     ]
    }
   ],
   "source": [
    "training_data = CIFAR10(root = \"./\",\n",
    "                        train = True,\n",
    "                        download = True,\n",
    "                        transform = ToTensor())"
   ]
  },
  {
   "cell_type": "code",
   "execution_count": 221,
   "id": "e311ca85-6d6b-4734-93a0-ecfec2a47dbf",
   "metadata": {},
   "outputs": [
    {
     "name": "stdout",
     "output_type": "stream",
     "text": [
      "Files already downloaded and verified\n"
     ]
    }
   ],
   "source": [
    "test_data = CIFAR10(root = \"./\",\n",
    "                        train = False,\n",
    "                        download = True,\n",
    "                        transform = ToTensor())"
   ]
  },
  {
   "cell_type": "code",
   "execution_count": 222,
   "id": "cfc95623-c90c-4595-b921-f10878e2dc78",
   "metadata": {},
   "outputs": [
    {
     "data": {
      "image/png": "[encoded data removed]",
      "text/plain": [
       "<Figure size 640x480 with 9 Axes>"
      ]
     },
     "metadata": {},
     "output_type": "display_data"
    }
   ],
   "source": [
    "for i in range(9):\n",
    "    plt.subplot(3, 3, i+1)\n",
    "    plt.imshow(training_data.data[i])\n",
    "plt.show()"
   ]
  },
  {
   "cell_type": "code",
   "execution_count": 223,
   "id": "94ac8133-a264-4da0-91de-7d01b2c56fc9",
   "metadata": {},
   "outputs": [],
   "source": [
    "import matplotlib.pyplot as plt"
   ]
  },
  {
   "cell_type": "code",
   "execution_count": 224,
   "id": "9d46f503-0769-44be-a398-d98114489d3a",
   "metadata": {},
   "outputs": [],
   "source": [
    "import torchvision.transforms as T"
   ]
  },
  {
   "cell_type": "code",
   "execution_count": 225,
   "id": "33a9a256-a864-4406-9e31-a2ef43ef5ed1",
   "metadata": {},
   "outputs": [],
   "source": [
    "from torchvision.datasets.cifar import CIFAR10"
   ]
  },
  {
   "cell_type": "code",
   "execution_count": 226,
   "id": "82a98e06-cd7c-4c7b-8e1d-c87c3398643c",
   "metadata": {},
   "outputs": [],
   "source": [
    "from torchvision.transforms import Compose"
   ]
  },
  {
   "cell_type": "code",
   "execution_count": 227,
   "id": "c113f00b-4cf4-4578-a4cd-41d971a951f0",
   "metadata": {},
   "outputs": [],
   "source": [
    "from torchvision.transforms import RandomCrop"
   ]
  },
  {
   "cell_type": "code",
   "execution_count": 228,
   "id": "07c6dd32-0435-4783-a510-eca385c482e6",
   "metadata": {},
   "outputs": [],
   "source": [
    "from torchvision.transforms import RandomHorizontalFlip"
   ]
  },
  {
   "cell_type": "code",
   "execution_count": 229,
   "id": "c25d00c2-6749-4177-b1c1-44acfb445a52",
   "metadata": {},
   "outputs": [],
   "source": [
    "transforms = Compose([\n",
    "    T.ToPILImage(),\n",
    "    RandomCrop((32, 32), padding = 4),\n",
    "    RandomHorizontalFlip(p = 0.5),\n",
    "])"
   ]
  },
  {
   "cell_type": "code",
   "execution_count": 230,
   "id": "5109d39e-f1af-4e26-b09c-d717c7199297",
   "metadata": {},
   "outputs": [
    {
     "name": "stdout",
     "output_type": "stream",
     "text": [
      "Files already downloaded and verified\n"
     ]
    }
   ],
   "source": [
    "training_data = CIFAR10(\n",
    "    root = \"./\",\n",
    "    train = True,\n",
    "    download = True,\n",
    "    transform = transforms ) # transform 에는 데이터를 변환하는 함수가 들어감"
   ]
  },
  {
   "cell_type": "code",
   "execution_count": 231,
   "id": "9810a4c2-38b4-4210-8cec-466454bfd74e",
   "metadata": {},
   "outputs": [
    {
     "name": "stdout",
     "output_type": "stream",
     "text": [
      "Files already downloaded and verified\n"
     ]
    }
   ],
   "source": [
    "test_data = CIFAR10(\n",
    "    root = \"./\",\n",
    "    train = False,\n",
    "    download = True,\n",
    "    transform = transforms )"
   ]
  },
  {
   "cell_type": "code",
   "execution_count": 232,
   "id": "cceab81c-09fd-4cb1-8be3-a8c55749e3e8",
   "metadata": {},
   "outputs": [
    {
     "data": {
      "image/png": "[encoded data removed]",
      "text/plain": [
       "<Figure size 640x480 with 9 Axes>"
      ]
     },
     "metadata": {},
     "output_type": "display_data"
    }
   ],
   "source": [
    "for i in range(9) :\n",
    "    plt.subplot(3, 3, i+1)\n",
    "    plt.imshow(transforms(training_data.data[i]))"
   ]
  },
  {
   "cell_type": "code",
   "execution_count": 233,
   "id": "ddc4bb9b-98c2-4579-81a4-0cee3c97795d",
   "metadata": {},
   "outputs": [],
   "source": [
    "plt.show()"
   ]
  },
  {
   "cell_type": "code",
   "execution_count": 234,
   "id": "f8fb5a96-0840-46c5-8850-23e21b214351",
   "metadata": {},
   "outputs": [],
   "source": [
    "# 데이터 전처리에 정규화 추가\n",
    "import matplotlib.pyplot as plt\n",
    "import torchvision.transforms as T"
   ]
  },
  {
   "cell_type": "code",
   "execution_count": 235,
   "id": "0a786919-315b-48c5-8d9b-90ee352ed5f2",
   "metadata": {},
   "outputs": [],
   "source": [
    "from torchvision.datasets.cifar import CIFAR10\n",
    "from torchvision.transforms import Compose"
   ]
  },
  {
   "cell_type": "code",
   "execution_count": 236,
   "id": "1e1220f5-4556-441c-88fa-53c064c3b871",
   "metadata": {},
   "outputs": [],
   "source": [
    "from torchvision.transforms import RandomHorizontalFlip, RandomCrop, Normalize"
   ]
  },
  {
   "cell_type": "code",
   "execution_count": 237,
   "id": "c6685da3-9b0a-4cce-bf6a-a7dbf74b043f",
   "metadata": {},
   "outputs": [],
   "source": [
    "# 데이터 전처리 정의\n",
    "transforms = Compose ([\n",
    "    T.ToPILImage(),\n",
    "    RandomCrop(( 32, 32), padding = 4 ),\n",
    "    RandomHorizontalFlip(p = 0.5),\n",
    "    T.ToTensor(),\n",
    "    \n",
    "    Normalize(mean = (0.4914, 0.4822, 0.4465), std = (0.247, 0.243, 0.261)),\n",
    "    T.ToPILImage()\n",
    "]) \n",
    "    "
   ]
  },
  {
   "cell_type": "code",
   "execution_count": 238,
   "id": "38785d21-674d-48c2-842d-cdca395e5fd5",
   "metadata": {},
   "outputs": [
    {
     "name": "stdout",
     "output_type": "stream",
     "text": [
      "Files already downloaded and verified\n",
      "Files already downloaded and verified\n"
     ]
    }
   ],
   "source": [
    "# 학습용 데이터 정의\n",
    "training_data = CIFAR10(\n",
    "    root = \"./\",\n",
    "    train = True,\n",
    "    download = True,\n",
    "    transform = transforms )\n",
    "\n",
    "# 평가용 데이터 정의\n",
    "\n",
    "test_data = CIFAR10(\n",
    "    root = \"./\",\n",
    "    train = False,\n",
    "    download = True,\n",
    "    transform = transforms )"
   ]
  },
  {
   "cell_type": "code",
   "execution_count": 239,
   "id": "f7e42335-c967-4b26-9bc0-23ad5b2d1e98",
   "metadata": {},
   "outputs": [
    {
     "data": {
      "image/png": "[encoded data removed]",
      "text/plain": [
       "<Figure size 640x480 with 9 Axes>"
      ]
     },
     "metadata": {},
     "output_type": "display_data"
    }
   ],
   "source": [
    "# 이미지 표시\n",
    "for i in range(9) :\n",
    "    plt.subplot(3, 3, i+1)\n",
    "    plt.imshow(transforms(training_data.data[i]))\n",
    "plt.show()"
   ]
  },
  {
   "cell_type": "code",
   "execution_count": 240,
   "id": "4cbc9945-8434-4da0-9ac7-2512a06bf93e",
   "metadata": {},
   "outputs": [
    {
     "name": "stdout",
     "output_type": "stream",
     "text": [
      "Files already downloaded and verified\n"
     ]
    }
   ],
   "source": [
    "# 데이터셋의 평균과 표준편차\n",
    "\n",
    "import torch\n",
    "\n",
    "training_data = CIFAR10(\n",
    "    root = \"./\",\n",
    "    train = True,\n",
    "    download = True,\n",
    "    transform = ToTensor())"
   ]
  },
  {
   "cell_type": "code",
   "execution_count": 241,
   "id": "aba189bd-0a70-444e-ab82-974b7c050aa3",
   "metadata": {},
   "outputs": [],
   "source": [
    "# item[0]은 이미지, item[1]은 정답레이블\n",
    "imgs = [item[0] for item in training_data]"
   ]
  },
  {
   "cell_type": "code",
   "execution_count": 242,
   "id": "48f276d4-810c-4a91-844f-6cdb1dc98c57",
   "metadata": {},
   "outputs": [],
   "source": [
    "# imgs를 하나로 합침\n",
    "imgs = torch.stack(imgs, dim = 0).numpy()"
   ]
  },
  {
   "cell_type": "code",
   "execution_count": 243,
   "id": "1ad1b2dc-98ee-4159-aacc-71c0a3c2430f",
   "metadata": {},
   "outputs": [
    {
     "name": "stdout",
     "output_type": "stream",
     "text": [
      "0.49139968 0.48215827 0.44653124\n"
     ]
    }
   ],
   "source": [
    "#rgb 각 평균\n",
    "mean_r = imgs[:,0,:,:].mean()\n",
    "mean_g = imgs[:,1,:,:].mean()\n",
    "mean_b = imgs[:,2,:,:].mean()\n",
    "\n",
    "print(mean_r, mean_g, mean_b)"
   ]
  },
  {
   "cell_type": "code",
   "execution_count": 244,
   "id": "4aa0e248-ff81-49dc-9568-4d5e7d07c9e4",
   "metadata": {},
   "outputs": [
    {
     "name": "stdout",
     "output_type": "stream",
     "text": [
      "0.24703233 0.24348505 0.26158768\n"
     ]
    }
   ],
   "source": [
    "#rgb 각 표준편차\n",
    "std_r = imgs[:,0,:,:].std()\n",
    "std_g = imgs[:,1,:,:].std()\n",
    "std_b = imgs[:,2,:,:].std()\n",
    "\n",
    "print(std_r, std_g, std_b)"
   ]
  },
  {
   "cell_type": "code",
   "execution_count": 245,
   "id": "95d5ec7d-49e5-421e-9eb8-ae285b2de483",
   "metadata": {},
   "outputs": [],
   "source": [
    "## CNN으로 이미지 분류\n",
    "# VGG 기본 블록 정의\n",
    "import torch\n",
    "import torch.nn as nn\n",
    "\n",
    "class BasicBlock(nn.Module) : # 기본블럭 정의\n",
    "    # 기본 블록을 구성하는 층 정의\n",
    "    \n",
    "    def __init__(self, in_channels, out_channels, hidden_dim) :\n",
    "        \n",
    "        #nn.Module 클래스의 요소 상속\n",
    "        super(BasicBlock, self).__init__()\n",
    "        \n",
    "        # 합성곱층의 정의\n",
    "        self.conv1 = nn.Conv2d(in_channels, hidden_dim,\n",
    "                               kernel_size = 3, padding = 1)\n",
    "        self.conv2 = nn.Conv2d(hidden_dim, out_channels,\n",
    "                               kernel_size = 3, padding = 1)\n",
    "        \n",
    "        self.relu = nn.ReLU()\n",
    "        \n",
    "        # stride는 커널의 이동거리\n",
    "        self.pool = nn.MaxPool2d(kernel_size = 2, stride = 2)\n",
    "    def forward(self, x) : # 기본 블록의 순전파 정의\n",
    "        x = self.conv1(x)\n",
    "        x = self.relu(x)\n",
    "        x = self.conv2(x)\n",
    "        x = self.relu(x)\n",
    "        x = self.pool(x)\n",
    "\n",
    "        return x   "
   ]
  },
  {
   "cell_type": "code",
   "execution_count": 251,
   "id": "85794f8f-bb59-4ebf-8a12-1efe0835db6a",
   "metadata": {},
   "outputs": [],
   "source": [
    "# VGG 모델 정의하기\n",
    "\n",
    "class CNN(nn.Module) : \n",
    "    def __init__(self, num_classes) : # num_classes는 클래스 개수\n",
    "        super(CNN, self).__init__()\n",
    "        \n",
    "        # 합성곱 기본 블록 정의\n",
    "        self.block1 = BasicBlock(in_channels = 3, out_channels = 32, hidden_dim = 16)\n",
    "        self.block2 = BasicBlock(in_channels = 32, out_channels = 128, hidden_dim = 64)\n",
    "        self.block3 = BasicBlock(in_channels = 128, out_channels = 256, hidden_dim = 128)\n",
    "        \n",
    "        # 분류기 정의\n",
    "        self.fc1 = nn.Linear(in_features = 4096, out_features = 2048)\n",
    "        self.fc2 = nn.Linear(in_features = 2048, out_features = 256)\n",
    "        self.fc3 = nn.Linear(in_features = 256, out_features = num_classes)\n",
    "        \n",
    "        # 분류기의 활성화 함수\n",
    "        self.relu = nn.ReLU()\n",
    "    def forward(self, x) :\n",
    "        x = self.block1(x)\n",
    "        x = self.block2(x)\n",
    "        x = self.block3(x) # 출력모양 : (-1, 256, 4, 4)\n",
    "        x = torch.flatten(x, start_dim = 1) # 2차원 특징맵을 1차원으로\n",
    "\n",
    "        x = self.fc1(x)\n",
    "        x = self.relu(x)\n",
    "        x = self.fc2(x)\n",
    "        x = self.relu(x)\n",
    "        x = self.fc3(x)\n",
    "\n",
    "        return x"
   ]
  },
  {
   "cell_type": "code",
   "execution_count": 252,
   "id": "1506e1a0-4183-47d5-93b7-79fdad4281a0",
   "metadata": {},
   "outputs": [
    {
     "name": "stdout",
     "output_type": "stream",
     "text": [
      "Defaulting to user installation because normal site-packages is not writeable\n",
      "Requirement already satisfied: DataLoader in /home/baesorie/.local/lib/python3.10/site-packages (2.0)\n",
      "Defaulting to user installation because normal site-packages is not writeable\n",
      "Requirement already satisfied: adam in /home/baesorie/.local/lib/python3.10/site-packages (0.0.0.dev0)\n",
      "Defaulting to user installation because normal site-packages is not writeable\n",
      "Requirement already satisfied: torch in /home/baesorie/.local/lib/python3.10/site-packages (1.13.1)\n",
      "Requirement already satisfied: typing-extensions in /home/baesorie/.local/lib/python3.10/site-packages (from torch) (4.4.0)\n",
      "Requirement already satisfied: nvidia-cudnn-cu11==8.5.0.96 in /home/baesorie/.local/lib/python3.10/site-packages (from torch) (8.5.0.96)\n",
      "Requirement already satisfied: nvidia-cuda-nvrtc-cu11==11.7.99 in /home/baesorie/.local/lib/python3.10/site-packages (from torch) (11.7.99)\n",
      "Requirement already satisfied: nvidia-cublas-cu11==11.10.3.66 in /home/baesorie/.local/lib/python3.10/site-packages (from torch) (11.10.3.66)\n",
      "Requirement already satisfied: nvidia-cuda-runtime-cu11==11.7.99 in /home/baesorie/.local/lib/python3.10/site-packages (from torch) (11.7.99)\n",
      "Requirement already satisfied: setuptools in /usr/local/lib/python3.10/dist-packages (from nvidia-cublas-cu11==11.10.3.66->torch) (65.6.3)\n",
      "Requirement already satisfied: wheel in /usr/lib/python3/dist-packages (from nvidia-cublas-cu11==11.10.3.66->torch) (0.37.1)\n",
      "Defaulting to user installation because normal site-packages is not writeable\n",
      "Requirement already satisfied: Adam in /home/baesorie/.local/lib/python3.10/site-packages (0.0.0.dev0)\n",
      "Defaulting to user installation because normal site-packages is not writeable\n",
      "Requirement already satisfied: optim in /home/baesorie/.local/lib/python3.10/site-packages (0.1.0)\n"
     ]
    }
   ],
   "source": [
    "!python3 -m pip install DataLoader\n",
    "!python3 -m pip install adam\n",
    "!python3 -m pip install torch\n",
    "!python3 -m pip install Adam\n",
    "!python3 -m pip install optim"
   ]
  },
  {
   "cell_type": "code",
   "execution_count": 253,
   "id": "9d83194e-2947-41cc-93b4-4cf3e5a9a3b2",
   "metadata": {},
   "outputs": [],
   "source": [
    "from torch.utils.data.dataloader import DataLoader\n",
    "from torch.optim.adam import Adam"
   ]
  },
  {
   "cell_type": "code",
   "execution_count": 254,
   "id": "f151b29d-b74c-4ebc-85d0-a00fdd812d50",
   "metadata": {},
   "outputs": [],
   "source": [
    "transforms = Compose([\n",
    "    RandomCrop((32, 32), padding = 4), # 랜덤 크롭핑\n",
    "    RandomHorizontalFlip(p = 0.5), # y 축으로 좌우대칭\n",
    "    ToTensor(), # 텐서로 변환\n",
    "    \n",
    "    # 이미지 정규화\n",
    "    Normalize(mean = (0.4914, 0.4822, 0.4465), std = (0.247, 0.243, 0.261))\n",
    "])"
   ]
  },
  {
   "cell_type": "code",
   "execution_count": 255,
   "id": "7adc22a9-d8a8-47aa-b915-37e6374d2d19",
   "metadata": {},
   "outputs": [
    {
     "name": "stdout",
     "output_type": "stream",
     "text": [
      "Files already downloaded and verified\n",
      "Files already downloaded and verified\n"
     ]
    },
    {
     "data": {
      "text/plain": [
       "CNN(\n",
       "  (block1): BasicBlock(\n",
       "    (conv1): Conv2d(3, 16, kernel_size=(3, 3), stride=(1, 1), padding=(1, 1))\n",
       "    (conv2): Conv2d(16, 32, kernel_size=(3, 3), stride=(1, 1), padding=(1, 1))\n",
       "    (relu): ReLU()\n",
       "    (pool): MaxPool2d(kernel_size=2, stride=2, padding=0, dilation=1, ceil_mode=False)\n",
       "  )\n",
       "  (block2): BasicBlock(\n",
       "    (conv1): Conv2d(32, 64, kernel_size=(3, 3), stride=(1, 1), padding=(1, 1))\n",
       "    (conv2): Conv2d(64, 128, kernel_size=(3, 3), stride=(1, 1), padding=(1, 1))\n",
       "    (relu): ReLU()\n",
       "    (pool): MaxPool2d(kernel_size=2, stride=2, padding=0, dilation=1, ceil_mode=False)\n",
       "  )\n",
       "  (block3): BasicBlock(\n",
       "    (conv1): Conv2d(128, 128, kernel_size=(3, 3), stride=(1, 1), padding=(1, 1))\n",
       "    (conv2): Conv2d(128, 256, kernel_size=(3, 3), stride=(1, 1), padding=(1, 1))\n",
       "    (relu): ReLU()\n",
       "    (pool): MaxPool2d(kernel_size=2, stride=2, padding=0, dilation=1, ceil_mode=False)\n",
       "  )\n",
       "  (fc1): Linear(in_features=4096, out_features=2048, bias=True)\n",
       "  (fc2): Linear(in_features=2048, out_features=256, bias=True)\n",
       "  (fc3): Linear(in_features=256, out_features=10, bias=True)\n",
       "  (relu): ReLU()\n",
       ")"
      ]
     },
     "execution_count": 255,
     "metadata": {},
     "output_type": "execute_result"
    }
   ],
   "source": [
    "# 학습용 데이터와 평가용 데이터 불러오기\n",
    "training_data = CIFAR10(root = \"./\", train = True, download = True, transform = transforms)\n",
    "test_data = CIFAR10( root = \"./\", train = False, download = True, transform = transforms)\n",
    "\n",
    "# 데이터로더 정의\n",
    "train_loader = DataLoader(training_data, batch_size = 32, shuffle = True)\n",
    "test_loader = DataLoader(test_data, batch_size = 32, shuffle = False)\n",
    "\n",
    "# 학습을 진행할 프로세서 설정\n",
    "device = \"cuda\" if torch.cuda.is_available() else \"cpu\"\n",
    "\n",
    "# CNN 모델 정의\n",
    "model = CNN(num_classes = 10)\n",
    "\n",
    "# 모델을 device로 보냄\n",
    "model.to(device)       "
   ]
  },
  {
   "cell_type": "code",
   "execution_count": null,
   "id": "8eb2ea56-695e-492c-97ca-abbb28cbc9dd",
   "metadata": {},
   "outputs": [
    {
     "name": "stdout",
     "output_type": "stream",
     "text": [
      "epoch1 loss:0.17604412138462067\n",
      "epoch10 loss:0.2726002037525177\n",
      "epoch20 loss:0.2662718594074249\n",
      "epoch30 loss:0.32301971316337585\n",
      "epoch40 loss:0.5462402701377869\n",
      "epoch50 loss:0.7229148745536804\n"
     ]
    }
   ],
   "source": [
    "lr = 1e-3\n",
    "\n",
    "optim = Adam(model.parameters(), lr = lr)\n",
    "\n",
    "# 학습루프 정의\n",
    "for epoch in range(100) :\n",
    "    for data, label in train_loader : # 데이터 호출\n",
    "        optim.zero_grad() # 기울기 초기화\n",
    "        \n",
    "        preds = model(data.to(device)) # 모델의 예측\n",
    "        \n",
    "        # 오차역전파와 최적화\n",
    "        \n",
    "        loss = nn.CrossEntropyLoss()(preds, label.to(device))\n",
    "        loss.backward()\n",
    "        optim.step()\n",
    "    \n",
    "    if epoch == 0 or epoch%10==9: #10번마다 손실 출력\n",
    "        print(f\"epoch{epoch+1} loss:{loss.item()}\")\n",
    "        \n",
    "# 모델 저장\n",
    "torch.save(model.state_dict(), \"CIFAR.pth\") \n",
    "\n",
    "\n",
    "# 모델 성능확인\n",
    "\n",
    "model.loader_state_dict(torch.load(\"CIFAR.pth\", map_location = device ))\n",
    "\n",
    "num_corr = 0\n",
    "\n",
    "with torch.no_grad() :\n",
    "    for data, lavel in test_loader :\n",
    "        \n",
    "        output = model(data.to(device))\n",
    "        \n",
    "        preds = output.data.max(1)[1]\n",
    "        \n",
    "        corr = preds.eq(lavel.to(device).data).sum().item()\n",
    "        num_corr += corr\n",
    "    \n",
    "    print(f\"Accuracy : {num_corr/len(test_data)} \")\n",
    "    "
   ]
  },
  {
   "cell_type": "code",
   "execution_count": null,
   "id": "d5f5b54b-6040-4a21-8df2-014cf38ed5ad",
   "metadata": {},
   "outputs": [],
   "source": [
    "# 사전학습된 모델 준비\n",
    "import torch\n",
    "import torch.nn as nn"
   ]
  },
  {
   "cell_type": "code",
   "execution_count": null,
   "id": "84c88e26-55b0-4b50-8ca6-1c943a435771",
   "metadata": {},
   "outputs": [],
   "source": [
    "from torchvision.models.vgg import vgg16"
   ]
  },
  {
   "cell_type": "code",
   "execution_count": null,
   "id": "d6a15650-8e1b-478c-841f-f98f4afba99b",
   "metadata": {},
   "outputs": [],
   "source": [
    "device = \"cuda\" if torch.cuda.is_avilable() else \"cpu\"\n",
    "\n",
    "model = vgg16(pretrained = True) # vgg16 모델 객체 생성\n",
    "fc = nn.Sequential( # 분류층 정의\n",
    "        nn.Linear(512 * 7* 7, 4096),\n",
    "        nn.ReLu(),\n",
    "        nn.Dropout(), # 드롭아웃층 정의\n",
    "        nn.Linear(4096, 4096),\n",
    "        nn.ReLu(),\n",
    "        nn.Dropout(),\n",
    "        nn.Linear(4096, 10),\n",
    "    )\n",
    "\n",
    "model.classifier = fc\n",
    "mode.to(device)"
   ]
  },
  {
   "cell_type": "code",
   "execution_count": 129,
   "id": "d490a014-2a15-412f-8e44-d33e09a109cb",
   "metadata": {},
   "outputs": [
    {
     "name": "stdout",
     "output_type": "stream",
     "text": [
      "Defaulting to user installation because normal site-packages is not writeable\n",
      "Requirement already satisfied: tqdm in /home/baesorie/.local/lib/python3.10/site-packages (4.64.1)\n"
     ]
    }
   ],
   "source": [
    "!python3 -m pip install tqdm"
   ]
  },
  {
   "cell_type": "code",
   "execution_count": null,
   "id": "241510e2-0db4-4241-af74-92f456d7bcc5",
   "metadata": {},
   "outputs": [],
   "source": [
    "import tqdm"
   ]
  },
  {
   "cell_type": "code",
   "execution_count": null,
   "id": "84b9502e-333a-4315-9d83-b1b5cbe0e3e3",
   "metadata": {},
   "outputs": [],
   "source": [
    "from torchvision.datasets.cifar import CIFAR10\n",
    "from torchvision.transforms import Compose, ToTensor, Resize\n",
    "from torchvision.transforms import Compose, RandomHorizontalFlip, RandomCrop, Normalize\n",
    "from torch.utils.data.dataloader import DataLoader\n",
    "\n",
    "from torch.optim.adam import Adam"
   ]
  },
  {
   "cell_type": "code",
   "execution_count": null,
   "id": "3e867907-ca34-45ef-86c4-47afb0a3a38d",
   "metadata": {},
   "outputs": [],
   "source": [
    "transforms = Compose ([\n",
    "    Resize(224),\n",
    "    RandomCrop((224, 224), padding = 4),\n",
    "    RandomHorizontalFlip(p=0.5),\n",
    "    ToTensor(),\n",
    "    Normalize(mean = (0.4914, 0.1822, 0.4465), std = (0.247, 0.243, 0.261))\n",
    "])"
   ]
  },
  {
   "cell_type": "code",
   "execution_count": null,
   "id": "d368daad-11ad-464e-ba11-96e59440ee88",
   "metadata": {},
   "outputs": [],
   "source": [
    "training_data = CIFAR10(root = \"./\", train = True, download = True, transform = transforms)\n",
    "test_data = CIFAR10(root = \"./\", train = False, download = True, transform = transforms)"
   ]
  },
  {
   "cell_type": "code",
   "execution_count": null,
   "id": "c44f3482-f680-4aed-a781-2a84f4301295",
   "metadata": {},
   "outputs": [],
   "source": [
    "# 학습루프 정의\n",
    "lr = 1e-4\n",
    "optim = Adam(model.parameters(), lr = lr)\n",
    "\n",
    "for epoch in range(30) :\n",
    "    iterator = tqdm.tqdm(train_loader) #학습 로그 출력\n",
    "    for data, lavel in iterator :\n",
    "        optim.zero_grad()\n",
    "        \n",
    "        preds = model(data.to(device)) # 모델의 예측값 출력\n",
    "        \n",
    "        loss = CrossEntroppyLoss()(preds, label.to(device))\n",
    "        loss.backward()\n",
    "        optim.step()\n",
    "        \n",
    "        # tqdm이 출력할 문자열\n",
    "        iterator.set_description(f\"epoch:{epoch:{epoch+1} loss:{loss.item()}\")\n",
    "\n",
    "torch.save(model.state_dict(), \"CIFAR_pretrained.pth\") # 모델 저장"
   ]
  },
  {
   "cell_type": "code",
   "execution_count": null,
   "id": "4fce47b1-3d62-4a18-a39d-2727c07d2c90",
   "metadata": {},
   "outputs": [],
   "source": [
    "# 모델 성능 평가(확인)하기\n",
    "model.load_state_dict(torch.load(\"CIFAR_pretrained.pth\", map_location = device))\n",
    "\n",
    "num_corr = 0\n",
    "\n",
    "with torch.no_grad() :\n",
    "    for data, lavel in test_loader :\n",
    "        \n",
    "        output = model(data.to(device))\n",
    "        preds = output.data.max(1)[1]\n",
    "        corr = preds.eq(label.to(device).data).sum().item()\n",
    "        num_cor += corr\n",
    "        \n",
    "    print(f\"Accuracy : {num_corr / lrn(test_data)}\")"
   ]
  },
  {
   "cell_type": "code",
   "execution_count": null,
   "id": "4d4766d6-eab0-4169-a4ec-656aed4c277b",
   "metadata": {},
   "outputs": [],
   "source": []
  },
  {
   "cell_type": "code",
   "execution_count": null,
   "id": "0542cfaa-32af-4fcb-b3b4-fec92d54b867",
   "metadata": {},
   "outputs": [],
   "source": []
  }
 ],
 "metadata": {
  "kernelspec": {
   "display_name": "Python 3 (ipykernel)",
   "language": "python",
   "name": "python3"
  },
  "language_info": {
   "codemirror_mode": {
    "name": "ipython",
    "version": 3
   },
   "file_extension": ".py",
   "mimetype": "text/x-python",
   "name": "python",
   "nbconvert_exporter": "python",
   "pygments_lexer": "ipython3",
   "version": "3.10.6"
  },
  "toc-autonumbering": false,
  "toc-showcode": true,
  "toc-showmarkdowntxt": false
 },
 "nbformat": 4,
 "nbformat_minor": 5
}
